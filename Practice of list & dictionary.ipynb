{
 "cells": [
  {
   "cell_type": "code",
   "execution_count": 13,
   "id": "5cd73a52",
   "metadata": {},
   "outputs": [],
   "source": [
    "y=[]"
   ]
  },
  {
   "cell_type": "code",
   "execution_count": 14,
   "id": "eda76939",
   "metadata": {},
   "outputs": [
    {
     "name": "stdout",
     "output_type": "stream",
     "text": [
      "[]\n"
     ]
    }
   ],
   "source": [
    "print(y)"
   ]
  },
  {
   "cell_type": "code",
   "execution_count": 15,
   "id": "97dec4f5",
   "metadata": {},
   "outputs": [],
   "source": [
    "y.append(\"hema\")"
   ]
  },
  {
   "cell_type": "code",
   "execution_count": 16,
   "id": "fd7c89a3",
   "metadata": {},
   "outputs": [],
   "source": [
    "y.append(\"rekha\")"
   ]
  },
  {
   "cell_type": "code",
   "execution_count": 17,
   "id": "3a884bc0",
   "metadata": {},
   "outputs": [],
   "source": [
    "y.append(\"jaya\")"
   ]
  },
  {
   "cell_type": "code",
   "execution_count": 18,
   "id": "dd0cba56",
   "metadata": {},
   "outputs": [],
   "source": [
    "y.append(\"sushma\")"
   ]
  },
  {
   "cell_type": "code",
   "execution_count": 19,
   "id": "836ab69a",
   "metadata": {},
   "outputs": [],
   "source": [
    "y.append(30)"
   ]
  },
  {
   "cell_type": "code",
   "execution_count": 20,
   "id": "f95952db",
   "metadata": {},
   "outputs": [],
   "source": [
    "y.append(25)"
   ]
  },
  {
   "cell_type": "code",
   "execution_count": 21,
   "id": "95c10757",
   "metadata": {},
   "outputs": [],
   "source": [
    "y.append(\"27\")"
   ]
  },
  {
   "cell_type": "code",
   "execution_count": 22,
   "id": "e04e81eb",
   "metadata": {},
   "outputs": [],
   "source": [
    "y.append(\"28\")"
   ]
  },
  {
   "cell_type": "code",
   "execution_count": 23,
   "id": "4478330d",
   "metadata": {},
   "outputs": [
    {
     "name": "stdout",
     "output_type": "stream",
     "text": [
      "['hema', 'rekha', 'jaya', 'sushma', 30, 25, '27', '28']\n"
     ]
    }
   ],
   "source": [
    "print(y)"
   ]
  },
  {
   "cell_type": "code",
   "execution_count": 24,
   "id": "5b3f1e1d",
   "metadata": {},
   "outputs": [
    {
     "data": {
      "text/plain": [
       "['hema', 'rekha', 'jaya', 'sushma', 30, 25, '27', '28']"
      ]
     },
     "execution_count": 24,
     "metadata": {},
     "output_type": "execute_result"
    }
   ],
   "source": [
    "y.copy()"
   ]
  },
  {
   "cell_type": "code",
   "execution_count": 25,
   "id": "4183abeb",
   "metadata": {},
   "outputs": [],
   "source": [
    "copy=y.copy()"
   ]
  },
  {
   "cell_type": "code",
   "execution_count": 26,
   "id": "3be2dc7a",
   "metadata": {},
   "outputs": [
    {
     "name": "stdout",
     "output_type": "stream",
     "text": [
      "['hema', 'rekha', 'jaya', 'sushma', 30, 25, '27', '28']\n"
     ]
    }
   ],
   "source": [
    "print(copy)"
   ]
  },
  {
   "cell_type": "code",
   "execution_count": 27,
   "id": "c7963cde",
   "metadata": {},
   "outputs": [
    {
     "data": {
      "text/plain": [
       "1"
      ]
     },
     "execution_count": 27,
     "metadata": {},
     "output_type": "execute_result"
    }
   ],
   "source": [
    "y.count(\"hema\")"
   ]
  },
  {
   "cell_type": "code",
   "execution_count": 28,
   "id": "6a2ec2d9",
   "metadata": {},
   "outputs": [
    {
     "data": {
      "text/plain": [
       "1"
      ]
     },
     "execution_count": 28,
     "metadata": {},
     "output_type": "execute_result"
    }
   ],
   "source": [
    "y.count(30)"
   ]
  },
  {
   "cell_type": "code",
   "execution_count": 31,
   "id": "c00a85ce",
   "metadata": {},
   "outputs": [],
   "source": [
    "y.extend(\"rita\")"
   ]
  },
  {
   "cell_type": "code",
   "execution_count": 32,
   "id": "2e80c2dd",
   "metadata": {},
   "outputs": [
    {
     "name": "stdout",
     "output_type": "stream",
     "text": [
      "['hema', 'rekha', 'jaya', 'sushma', 30, 25, '27', '28', 'r', 'i', 't', 'a', 'r', 'i', 't', 'a']\n"
     ]
    }
   ],
   "source": [
    "print(y)"
   ]
  },
  {
   "cell_type": "code",
   "execution_count": 34,
   "id": "27184b8a",
   "metadata": {},
   "outputs": [],
   "source": [
    "y.extend([\"ring\", 24])"
   ]
  },
  {
   "cell_type": "code",
   "execution_count": 35,
   "id": "ac9b437f",
   "metadata": {},
   "outputs": [
    {
     "name": "stdout",
     "output_type": "stream",
     "text": [
      "['hema', 'rekha', 'jaya', 'sushma', 30, 25, '27', '28', 'r', 'i', 't', 'a', 'r', 'i', 't', 'a', 'ring', 24]\n"
     ]
    }
   ],
   "source": [
    "print(y)"
   ]
  },
  {
   "cell_type": "code",
   "execution_count": 38,
   "id": "f4c1dfe1",
   "metadata": {},
   "outputs": [
    {
     "data": {
      "text/plain": [
       "8"
      ]
     },
     "execution_count": 38,
     "metadata": {},
     "output_type": "execute_result"
    }
   ],
   "source": [
    "y.index(\"r\")"
   ]
  },
  {
   "cell_type": "code",
   "execution_count": 39,
   "id": "1db95f58",
   "metadata": {},
   "outputs": [
    {
     "data": {
      "text/plain": [
       "16"
      ]
     },
     "execution_count": 39,
     "metadata": {},
     "output_type": "execute_result"
    }
   ],
   "source": [
    "y.index(\"ring\")"
   ]
  },
  {
   "cell_type": "code",
   "execution_count": 42,
   "id": "02a408bc",
   "metadata": {},
   "outputs": [],
   "source": [
    "y.insert(8, \"riya\")"
   ]
  },
  {
   "cell_type": "code",
   "execution_count": 43,
   "id": "75c2ba8e",
   "metadata": {},
   "outputs": [
    {
     "name": "stdout",
     "output_type": "stream",
     "text": [
      "['hema', 'rekha', 'jaya', 'sushma', 30, 25, '27', '28', 'riya', 'riya', 'r', 'i', 't', 'a', 'r', 'i', 't', 'a', 'ring', 24]\n"
     ]
    }
   ],
   "source": [
    "print(y)"
   ]
  },
  {
   "cell_type": "code",
   "execution_count": 44,
   "id": "f9f14517",
   "metadata": {},
   "outputs": [
    {
     "data": {
      "text/plain": [
       "'riya'"
      ]
     },
     "execution_count": 44,
     "metadata": {},
     "output_type": "execute_result"
    }
   ],
   "source": [
    "y.pop(8)"
   ]
  },
  {
   "cell_type": "code",
   "execution_count": 45,
   "id": "aa9ece83",
   "metadata": {},
   "outputs": [
    {
     "data": {
      "text/plain": [
       "'riya'"
      ]
     },
     "execution_count": 45,
     "metadata": {},
     "output_type": "execute_result"
    }
   ],
   "source": [
    "y.pop(8)"
   ]
  },
  {
   "cell_type": "code",
   "execution_count": 46,
   "id": "9700c9e5",
   "metadata": {},
   "outputs": [
    {
     "data": {
      "text/plain": [
       "'r'"
      ]
     },
     "execution_count": 46,
     "metadata": {},
     "output_type": "execute_result"
    }
   ],
   "source": [
    "y.pop(8)"
   ]
  },
  {
   "cell_type": "code",
   "execution_count": 47,
   "id": "bf076102",
   "metadata": {},
   "outputs": [
    {
     "data": {
      "text/plain": [
       "'i'"
      ]
     },
     "execution_count": 47,
     "metadata": {},
     "output_type": "execute_result"
    }
   ],
   "source": [
    "y.pop(8)"
   ]
  },
  {
   "cell_type": "code",
   "execution_count": 48,
   "id": "6e8206ab",
   "metadata": {},
   "outputs": [
    {
     "data": {
      "text/plain": [
       "'t'"
      ]
     },
     "execution_count": 48,
     "metadata": {},
     "output_type": "execute_result"
    }
   ],
   "source": [
    "y.pop(8)"
   ]
  },
  {
   "cell_type": "code",
   "execution_count": 49,
   "id": "192ee3de",
   "metadata": {},
   "outputs": [
    {
     "name": "stdout",
     "output_type": "stream",
     "text": [
      "['hema', 'rekha', 'jaya', 'sushma', 30, 25, '27', '28', 'a', 'r', 'i', 't', 'a', 'ring', 24]\n"
     ]
    }
   ],
   "source": [
    "print(y)"
   ]
  },
  {
   "cell_type": "code",
   "execution_count": 50,
   "id": "360bba76",
   "metadata": {},
   "outputs": [
    {
     "data": {
      "text/plain": [
       "'a'"
      ]
     },
     "execution_count": 50,
     "metadata": {},
     "output_type": "execute_result"
    }
   ],
   "source": [
    "y.pop(8)"
   ]
  },
  {
   "cell_type": "code",
   "execution_count": 51,
   "id": "3c1fa92a",
   "metadata": {},
   "outputs": [
    {
     "data": {
      "text/plain": [
       "'27'"
      ]
     },
     "execution_count": 51,
     "metadata": {},
     "output_type": "execute_result"
    }
   ],
   "source": [
    "y.pop(6)"
   ]
  },
  {
   "cell_type": "code",
   "execution_count": 52,
   "id": "c31fd11f",
   "metadata": {},
   "outputs": [
    {
     "data": {
      "text/plain": [
       "'28'"
      ]
     },
     "execution_count": 52,
     "metadata": {},
     "output_type": "execute_result"
    }
   ],
   "source": [
    "y.pop(6)"
   ]
  },
  {
   "cell_type": "code",
   "execution_count": 53,
   "id": "d41cfbba",
   "metadata": {},
   "outputs": [],
   "source": [
    "y.extend([28])"
   ]
  },
  {
   "cell_type": "code",
   "execution_count": 54,
   "id": "19e63a35",
   "metadata": {},
   "outputs": [
    {
     "name": "stdout",
     "output_type": "stream",
     "text": [
      "['hema', 'rekha', 'jaya', 'sushma', 30, 25, 'r', 'i', 't', 'a', 'ring', 24, 28]\n"
     ]
    }
   ],
   "source": [
    "print(y)"
   ]
  },
  {
   "cell_type": "code",
   "execution_count": 55,
   "id": "5f352cdf",
   "metadata": {},
   "outputs": [],
   "source": [
    "y.extend([30,28])"
   ]
  },
  {
   "cell_type": "code",
   "execution_count": 56,
   "id": "ed29d170",
   "metadata": {},
   "outputs": [
    {
     "name": "stdout",
     "output_type": "stream",
     "text": [
      "['hema', 'rekha', 'jaya', 'sushma', 30, 25, 'r', 'i', 't', 'a', 'ring', 24, 28, 30, 28]\n"
     ]
    }
   ],
   "source": [
    "print(y)"
   ]
  },
  {
   "cell_type": "code",
   "execution_count": 57,
   "id": "f52c0de9",
   "metadata": {},
   "outputs": [],
   "source": [
    "y.remove(30)"
   ]
  },
  {
   "cell_type": "code",
   "execution_count": 58,
   "id": "f2b618ac",
   "metadata": {},
   "outputs": [],
   "source": [
    "y.remove(28)"
   ]
  },
  {
   "cell_type": "code",
   "execution_count": 59,
   "id": "57e34357",
   "metadata": {},
   "outputs": [
    {
     "name": "stdout",
     "output_type": "stream",
     "text": [
      "['hema', 'rekha', 'jaya', 'sushma', 25, 'r', 'i', 't', 'a', 'ring', 24, 30, 28]\n"
     ]
    }
   ],
   "source": [
    "print(y)"
   ]
  },
  {
   "cell_type": "code",
   "execution_count": 60,
   "id": "e7a83015",
   "metadata": {},
   "outputs": [],
   "source": [
    "y.reverse()"
   ]
  },
  {
   "cell_type": "code",
   "execution_count": 61,
   "id": "567ecc99",
   "metadata": {},
   "outputs": [
    {
     "name": "stdout",
     "output_type": "stream",
     "text": [
      "[28, 30, 24, 'ring', 'a', 't', 'i', 'r', 25, 'sushma', 'jaya', 'rekha', 'hema']\n"
     ]
    }
   ],
   "source": [
    "print(y)"
   ]
  },
  {
   "cell_type": "code",
   "execution_count": 63,
   "id": "f63a37bf",
   "metadata": {},
   "outputs": [],
   "source": [
    "y.remove(\"sushma\")"
   ]
  },
  {
   "cell_type": "code",
   "execution_count": 64,
   "id": "e4f2bf4d",
   "metadata": {},
   "outputs": [],
   "source": [
    "y.remove(\"jaya\")"
   ]
  },
  {
   "cell_type": "code",
   "execution_count": 65,
   "id": "76bbe9b2",
   "metadata": {},
   "outputs": [],
   "source": [
    "y.remove(\"rekha\")"
   ]
  },
  {
   "cell_type": "code",
   "execution_count": 66,
   "id": "c0ecae07",
   "metadata": {},
   "outputs": [],
   "source": [
    "y.remove(\"hema\")"
   ]
  },
  {
   "cell_type": "code",
   "execution_count": 67,
   "id": "9fe6487e",
   "metadata": {},
   "outputs": [
    {
     "name": "stdout",
     "output_type": "stream",
     "text": [
      "[24, 28, 30, 'ring', 'a', 't', 'i', 'r', 25]\n"
     ]
    }
   ],
   "source": [
    "print(y)"
   ]
  },
  {
   "cell_type": "code",
   "execution_count": 69,
   "id": "ff77fd6d",
   "metadata": {},
   "outputs": [
    {
     "name": "stdout",
     "output_type": "stream",
     "text": [
      "[24, 28, 30, 'ring', 'a', 't', 'i', 'r', 25]\n"
     ]
    }
   ],
   "source": [
    "print(y)"
   ]
  },
  {
   "cell_type": "code",
   "execution_count": 73,
   "id": "af6897d8",
   "metadata": {},
   "outputs": [
    {
     "name": "stdout",
     "output_type": "stream",
     "text": [
      "[24, 28, 30, 'ring', 'a', 't', 'i', 'r', 25]\n"
     ]
    }
   ],
   "source": [
    "print(y)"
   ]
  },
  {
   "cell_type": "code",
   "execution_count": 75,
   "id": "7cb6dcc2",
   "metadata": {},
   "outputs": [
    {
     "name": "stdout",
     "output_type": "stream",
     "text": [
      "[24, 28, 30, 'ring', 'a', 't', 'i', 'r', 25]\n"
     ]
    }
   ],
   "source": [
    "print(y)"
   ]
  },
  {
   "cell_type": "code",
   "execution_count": 76,
   "id": "d21e6c0d",
   "metadata": {},
   "outputs": [],
   "source": [
    "d={}"
   ]
  },
  {
   "cell_type": "code",
   "execution_count": 77,
   "id": "f434bd18",
   "metadata": {},
   "outputs": [
    {
     "name": "stdout",
     "output_type": "stream",
     "text": [
      "{}\n"
     ]
    }
   ],
   "source": [
    "print(d)"
   ]
  },
  {
   "cell_type": "code",
   "execution_count": 78,
   "id": "074672d5",
   "metadata": {},
   "outputs": [],
   "source": [
    "d[\"p\"]=30"
   ]
  },
  {
   "cell_type": "code",
   "execution_count": 79,
   "id": "5cce11a2",
   "metadata": {},
   "outputs": [],
   "source": [
    "d[\"s\"]=29"
   ]
  },
  {
   "cell_type": "code",
   "execution_count": 80,
   "id": "535fd699",
   "metadata": {},
   "outputs": [],
   "source": [
    "d[\"d\"]=32"
   ]
  },
  {
   "cell_type": "code",
   "execution_count": 81,
   "id": "9040cd36",
   "metadata": {},
   "outputs": [],
   "source": [
    "d[\"a\"]=33"
   ]
  },
  {
   "cell_type": "code",
   "execution_count": 82,
   "id": "f4c97238",
   "metadata": {},
   "outputs": [
    {
     "name": "stdout",
     "output_type": "stream",
     "text": [
      "{'p': 30, 's': 29, 'd': 32, 'a': 33}\n"
     ]
    }
   ],
   "source": [
    "print(d)"
   ]
  },
  {
   "cell_type": "code",
   "execution_count": 83,
   "id": "6de9b993",
   "metadata": {},
   "outputs": [
    {
     "data": {
      "text/plain": [
       "{'g': 0}"
      ]
     },
     "execution_count": 83,
     "metadata": {},
     "output_type": "execute_result"
    }
   ],
   "source": [
    "d.fromkeys(\"g\", 0)"
   ]
  },
  {
   "cell_type": "code",
   "execution_count": 84,
   "id": "56728071",
   "metadata": {},
   "outputs": [
    {
     "name": "stdout",
     "output_type": "stream",
     "text": [
      "{'p': 30, 's': 29, 'd': 32, 'a': 33}\n"
     ]
    }
   ],
   "source": [
    "print(d)"
   ]
  },
  {
   "cell_type": "code",
   "execution_count": 85,
   "id": "a66e6bc9",
   "metadata": {},
   "outputs": [
    {
     "data": {
      "text/plain": [
       "{'s': 31}"
      ]
     },
     "execution_count": 85,
     "metadata": {},
     "output_type": "execute_result"
    }
   ],
   "source": [
    "d.fromkeys(\"s\", 31)"
   ]
  },
  {
   "cell_type": "code",
   "execution_count": 86,
   "id": "7abba759",
   "metadata": {},
   "outputs": [],
   "source": [
    "k=d"
   ]
  },
  {
   "cell_type": "code",
   "execution_count": 87,
   "id": "4b094419",
   "metadata": {},
   "outputs": [
    {
     "data": {
      "text/plain": [
       "{'g': ['f', 74], 25: ['f', 74]}"
      ]
     },
     "execution_count": 87,
     "metadata": {},
     "output_type": "execute_result"
    }
   ],
   "source": [
    "k.fromkeys([\"g\", 25], [\"f\", 74])"
   ]
  },
  {
   "cell_type": "code",
   "execution_count": 88,
   "id": "47a8027a",
   "metadata": {},
   "outputs": [
    {
     "data": {
      "text/plain": [
       "{'t': 2, 'y': 2, 'q': 2}"
      ]
     },
     "execution_count": 88,
     "metadata": {},
     "output_type": "execute_result"
    }
   ],
   "source": [
    "k.fromkeys([\"t\", \"y\", \"q\"], 2)"
   ]
  },
  {
   "cell_type": "code",
   "execution_count": 89,
   "id": "6b95d2af",
   "metadata": {},
   "outputs": [
    {
     "name": "stdout",
     "output_type": "stream",
     "text": [
      "{'p': 30, 's': 29, 'd': 32, 'a': 33}\n"
     ]
    }
   ],
   "source": [
    "print(k)"
   ]
  },
  {
   "cell_type": "code",
   "execution_count": 90,
   "id": "35d79f5a",
   "metadata": {},
   "outputs": [],
   "source": [
    "l={}"
   ]
  },
  {
   "cell_type": "code",
   "execution_count": 91,
   "id": "3a10fa57",
   "metadata": {},
   "outputs": [
    {
     "data": {
      "text/plain": [
       "{'e': 65, 'n': 65, 'm': 65}"
      ]
     },
     "execution_count": 91,
     "metadata": {},
     "output_type": "execute_result"
    }
   ],
   "source": [
    "l.fromkeys([\"e\", \"n\", \"m\"], 65)"
   ]
  },
  {
   "cell_type": "code",
   "execution_count": 92,
   "id": "b418f9f8",
   "metadata": {},
   "outputs": [
    {
     "name": "stdout",
     "output_type": "stream",
     "text": [
      "{}\n"
     ]
    }
   ],
   "source": [
    "print(l)"
   ]
  },
  {
   "cell_type": "code",
   "execution_count": 93,
   "id": "c0786bf4",
   "metadata": {},
   "outputs": [
    {
     "data": {
      "text/plain": [
       "29"
      ]
     },
     "execution_count": 93,
     "metadata": {},
     "output_type": "execute_result"
    }
   ],
   "source": [
    "d.get(\"s\")"
   ]
  },
  {
   "cell_type": "code",
   "execution_count": 94,
   "id": "e3ab522b",
   "metadata": {},
   "outputs": [
    {
     "data": {
      "text/plain": [
       "30"
      ]
     },
     "execution_count": 94,
     "metadata": {},
     "output_type": "execute_result"
    }
   ],
   "source": [
    "d.get(\"p\", 0)"
   ]
  },
  {
   "cell_type": "code",
   "execution_count": 95,
   "id": "905577c3",
   "metadata": {},
   "outputs": [
    {
     "data": {
      "text/plain": [
       "16"
      ]
     },
     "execution_count": 95,
     "metadata": {},
     "output_type": "execute_result"
    }
   ],
   "source": [
    "d.get(\"r\", 16)"
   ]
  },
  {
   "cell_type": "code",
   "execution_count": 96,
   "id": "0716cb72",
   "metadata": {},
   "outputs": [
    {
     "data": {
      "text/plain": [
       "dict_items([('p', 30), ('s', 29), ('d', 32), ('a', 33)])"
      ]
     },
     "execution_count": 96,
     "metadata": {},
     "output_type": "execute_result"
    }
   ],
   "source": [
    "d.items()"
   ]
  },
  {
   "cell_type": "code",
   "execution_count": 97,
   "id": "2f7ec847",
   "metadata": {},
   "outputs": [],
   "source": [
    "l=d.items()"
   ]
  },
  {
   "cell_type": "code",
   "execution_count": 108,
   "id": "cc27707b",
   "metadata": {},
   "outputs": [],
   "source": [
    "l= list(l)"
   ]
  },
  {
   "cell_type": "code",
   "execution_count": 109,
   "id": "fe78c9dd",
   "metadata": {},
   "outputs": [
    {
     "data": {
      "text/plain": [
       "[('p', 30), ('s', 29), ('d', 32), ('a', 33)]"
      ]
     },
     "execution_count": 109,
     "metadata": {},
     "output_type": "execute_result"
    }
   ],
   "source": [
    "l"
   ]
  },
  {
   "cell_type": "code",
   "execution_count": 101,
   "id": "6c97fe35",
   "metadata": {},
   "outputs": [
    {
     "data": {
      "text/plain": [
       "{'p': 30, 's': 29, 'd': 32, 'a': 33}"
      ]
     },
     "execution_count": 101,
     "metadata": {},
     "output_type": "execute_result"
    }
   ],
   "source": [
    "d"
   ]
  },
  {
   "cell_type": "code",
   "execution_count": 102,
   "id": "4a425906",
   "metadata": {},
   "outputs": [
    {
     "data": {
      "text/plain": [
       "[('p', 30), ('s', 29), ('d', 32), ('a', 33)]"
      ]
     },
     "execution_count": 102,
     "metadata": {},
     "output_type": "execute_result"
    }
   ],
   "source": [
    "l"
   ]
  },
  {
   "cell_type": "code",
   "execution_count": 110,
   "id": "2c03523a",
   "metadata": {},
   "outputs": [
    {
     "data": {
      "text/plain": [
       "dict_keys(['p', 's', 'd', 'a'])"
      ]
     },
     "execution_count": 110,
     "metadata": {},
     "output_type": "execute_result"
    }
   ],
   "source": [
    "d.keys()"
   ]
  },
  {
   "cell_type": "code",
   "execution_count": 111,
   "id": "782a3835",
   "metadata": {},
   "outputs": [],
   "source": [
    "r=d.keys()"
   ]
  },
  {
   "cell_type": "code",
   "execution_count": 112,
   "id": "cbce2d57",
   "metadata": {},
   "outputs": [],
   "source": [
    "r=list(r)"
   ]
  },
  {
   "cell_type": "code",
   "execution_count": 113,
   "id": "6db8e4c3",
   "metadata": {},
   "outputs": [
    {
     "data": {
      "text/plain": [
       "['p', 's', 'd', 'a']"
      ]
     },
     "execution_count": 113,
     "metadata": {},
     "output_type": "execute_result"
    }
   ],
   "source": [
    "r"
   ]
  },
  {
   "cell_type": "code",
   "execution_count": 114,
   "id": "196449a5",
   "metadata": {},
   "outputs": [
    {
     "data": {
      "text/plain": [
       "'a'"
      ]
     },
     "execution_count": 114,
     "metadata": {},
     "output_type": "execute_result"
    }
   ],
   "source": [
    "r[3]"
   ]
  },
  {
   "cell_type": "code",
   "execution_count": 115,
   "id": "7f154fe5",
   "metadata": {},
   "outputs": [
    {
     "data": {
      "text/plain": [
       "29"
      ]
     },
     "execution_count": 115,
     "metadata": {},
     "output_type": "execute_result"
    }
   ],
   "source": [
    "d.pop(\"s\")"
   ]
  },
  {
   "cell_type": "code",
   "execution_count": 119,
   "id": "4119f92b",
   "metadata": {},
   "outputs": [
    {
     "data": {
      "text/plain": [
       "('a', 33)"
      ]
     },
     "execution_count": 119,
     "metadata": {},
     "output_type": "execute_result"
    }
   ],
   "source": [
    "d.popitem()"
   ]
  },
  {
   "cell_type": "code",
   "execution_count": 121,
   "id": "4114cbe8",
   "metadata": {},
   "outputs": [
    {
     "data": {
      "text/plain": [
       "33"
      ]
     },
     "execution_count": 121,
     "metadata": {},
     "output_type": "execute_result"
    }
   ],
   "source": [
    "d.setdefault(\"a\")"
   ]
  },
  {
   "cell_type": "code",
   "execution_count": 122,
   "id": "8736c41f",
   "metadata": {},
   "outputs": [
    {
     "data": {
      "text/plain": [
       "{'p': 30, 'd': 32, 'a': 33}"
      ]
     },
     "execution_count": 122,
     "metadata": {},
     "output_type": "execute_result"
    }
   ],
   "source": [
    "d"
   ]
  },
  {
   "cell_type": "code",
   "execution_count": 126,
   "id": "c1b35a36",
   "metadata": {},
   "outputs": [
    {
     "data": {
      "text/plain": [
       "28"
      ]
     },
     "execution_count": 126,
     "metadata": {},
     "output_type": "execute_result"
    }
   ],
   "source": [
    "d.setdefault(\"t\",28)"
   ]
  },
  {
   "cell_type": "code",
   "execution_count": 127,
   "id": "0ff6f1d8",
   "metadata": {},
   "outputs": [
    {
     "data": {
      "text/plain": [
       "{'p': 30, 'd': 32, 'a': 33, 't': 28}"
      ]
     },
     "execution_count": 127,
     "metadata": {},
     "output_type": "execute_result"
    }
   ],
   "source": [
    "d"
   ]
  },
  {
   "cell_type": "code",
   "execution_count": 128,
   "id": "ebf17c29",
   "metadata": {},
   "outputs": [
    {
     "data": {
      "text/plain": [
       "dict_values([30, 32, 33, 28])"
      ]
     },
     "execution_count": 128,
     "metadata": {},
     "output_type": "execute_result"
    }
   ],
   "source": [
    "d.values()"
   ]
  },
  {
   "cell_type": "code",
   "execution_count": 129,
   "id": "4431f3c2",
   "metadata": {},
   "outputs": [],
   "source": [
    "v=d.values()"
   ]
  },
  {
   "cell_type": "code",
   "execution_count": 130,
   "id": "7fa7f7b7",
   "metadata": {},
   "outputs": [],
   "source": [
    "v=list(v)"
   ]
  },
  {
   "cell_type": "code",
   "execution_count": 131,
   "id": "541a8bfe",
   "metadata": {},
   "outputs": [
    {
     "data": {
      "text/plain": [
       "[30, 32, 33, 28]"
      ]
     },
     "execution_count": 131,
     "metadata": {},
     "output_type": "execute_result"
    }
   ],
   "source": [
    "v"
   ]
  },
  {
   "cell_type": "code",
   "execution_count": 132,
   "id": "85b45801",
   "metadata": {},
   "outputs": [],
   "source": [
    "e=dict(zip([\"p\",\"q\",\"r\",\"s\"], [31,32,33,34]))"
   ]
  },
  {
   "cell_type": "code",
   "execution_count": 136,
   "id": "c2ec3316",
   "metadata": {},
   "outputs": [
    {
     "data": {
      "text/plain": [
       "{'p': 31, 'q': 32, 'r': 33, 's': 34}"
      ]
     },
     "execution_count": 136,
     "metadata": {},
     "output_type": "execute_result"
    }
   ],
   "source": [
    "e"
   ]
  },
  {
   "cell_type": "code",
   "execution_count": 134,
   "id": "6d82e929",
   "metadata": {},
   "outputs": [],
   "source": [
    "d.update(e)"
   ]
  },
  {
   "cell_type": "code",
   "execution_count": 135,
   "id": "7ee747c5",
   "metadata": {},
   "outputs": [
    {
     "data": {
      "text/plain": [
       "{'p': 31, 'd': 32, 'a': 33, 't': 28, 'q': 32, 'r': 33, 's': 34}"
      ]
     },
     "execution_count": 135,
     "metadata": {},
     "output_type": "execute_result"
    }
   ],
   "source": [
    "d"
   ]
  },
  {
   "cell_type": "code",
   "execution_count": 137,
   "id": "fa37012d",
   "metadata": {},
   "outputs": [],
   "source": [
    "f=list(zip([\"v\",\"d\",\"f\",\"m\"], [45,58,26,30]))"
   ]
  },
  {
   "cell_type": "code",
   "execution_count": 138,
   "id": "af24c942",
   "metadata": {},
   "outputs": [
    {
     "data": {
      "text/plain": [
       "[('v', 45), ('d', 58), ('f', 26), ('m', 30)]"
      ]
     },
     "execution_count": 138,
     "metadata": {},
     "output_type": "execute_result"
    }
   ],
   "source": [
    "f"
   ]
  },
  {
   "cell_type": "code",
   "execution_count": 139,
   "id": "a6846eb6",
   "metadata": {},
   "outputs": [],
   "source": [
    "d.update(f)"
   ]
  },
  {
   "cell_type": "code",
   "execution_count": 141,
   "id": "1f304985",
   "metadata": {},
   "outputs": [
    {
     "name": "stdout",
     "output_type": "stream",
     "text": [
      "{'p': 31, 'd': 58, 'a': 33, 't': 28, 'q': 32, 'r': 33, 's': 34, 'v': 45, 'f': 26, 'm': 30}\n"
     ]
    }
   ],
   "source": [
    "print(d)"
   ]
  },
  {
   "cell_type": "code",
   "execution_count": null,
   "id": "86d7c2f4",
   "metadata": {},
   "outputs": [],
   "source": []
  }
 ],
 "metadata": {
  "kernelspec": {
   "display_name": "Python 3 (ipykernel)",
   "language": "python",
   "name": "python3"
  },
  "language_info": {
   "codemirror_mode": {
    "name": "ipython",
    "version": 3
   },
   "file_extension": ".py",
   "mimetype": "text/x-python",
   "name": "python",
   "nbconvert_exporter": "python",
   "pygments_lexer": "ipython3",
   "version": "3.9.13"
  }
 },
 "nbformat": 4,
 "nbformat_minor": 5
}
