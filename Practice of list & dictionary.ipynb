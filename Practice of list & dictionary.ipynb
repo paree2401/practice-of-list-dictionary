{
 "cells": [
  {
   "cell_type": "code",
   "execution_count": 1,
   "id": "5cd73a52",
   "metadata": {},
   "outputs": [],
   "source": [
    "y=[]"
   ]
  },
  {
   "cell_type": "code",
   "execution_count": 2,
   "id": "eda76939",
   "metadata": {},
   "outputs": [
    {
     "name": "stdout",
     "output_type": "stream",
     "text": [
      "[]\n"
     ]
    }
   ],
   "source": [
    "print(y)"
   ]
  },
  {
   "cell_type": "code",
   "execution_count": 3,
   "id": "97dec4f5",
   "metadata": {},
   "outputs": [],
   "source": [
    "y.append(\"hema\")"
   ]
  },
  {
   "cell_type": "code",
   "execution_count": 4,
   "id": "fd7c89a3",
   "metadata": {},
   "outputs": [],
   "source": [
    "y.append(\"rekha\")"
   ]
  },
  {
   "cell_type": "code",
   "execution_count": 5,
   "id": "3a884bc0",
   "metadata": {},
   "outputs": [],
   "source": [
    "y.append(\"jaya\")"
   ]
  },
  {
   "cell_type": "code",
   "execution_count": 6,
   "id": "dd0cba56",
   "metadata": {},
   "outputs": [],
   "source": [
    "y.append(\"sushma\")"
   ]
  },
  {
   "cell_type": "code",
   "execution_count": 7,
   "id": "836ab69a",
   "metadata": {},
   "outputs": [],
   "source": [
    "y.append(30)"
   ]
  },
  {
   "cell_type": "code",
   "execution_count": 8,
   "id": "f95952db",
   "metadata": {},
   "outputs": [],
   "source": [
    "y.append(25)"
   ]
  },
  {
   "cell_type": "code",
   "execution_count": 9,
   "id": "95c10757",
   "metadata": {},
   "outputs": [],
   "source": [
    "y.append(\"27\")"
   ]
  },
  {
   "cell_type": "code",
   "execution_count": 10,
   "id": "e04e81eb",
   "metadata": {},
   "outputs": [],
   "source": [
    "y.append(\"28\")"
   ]
  },
  {
   "cell_type": "code",
   "execution_count": 11,
   "id": "4478330d",
   "metadata": {},
   "outputs": [
    {
     "name": "stdout",
     "output_type": "stream",
     "text": [
      "['hema', 'rekha', 'jaya', 'sushma', 30, 25, '27', '28']\n"
     ]
    }
   ],
   "source": [
    "print(y)"
   ]
  },
  {
   "cell_type": "code",
   "execution_count": 12,
   "id": "e23cf548",
   "metadata": {},
   "outputs": [
    {
     "ename": "TypeError",
     "evalue": "list.clear() takes no arguments (1 given)",
     "output_type": "error",
     "traceback": [
      "\u001b[1;31m---------------------------------------------------------------------------\u001b[0m",
      "\u001b[1;31mTypeError\u001b[0m                                 Traceback (most recent call last)",
      "\u001b[1;32m~\\AppData\\Local\\Temp\\ipykernel_4344\\4021998851.py\u001b[0m in \u001b[0;36m<module>\u001b[1;34m\u001b[0m\n\u001b[1;32m----> 1\u001b[1;33m \u001b[0my\u001b[0m\u001b[1;33m.\u001b[0m\u001b[0mclear\u001b[0m\u001b[1;33m(\u001b[0m\u001b[1;34m\"rekha\"\u001b[0m\u001b[1;33m)\u001b[0m\u001b[1;33m\u001b[0m\u001b[1;33m\u001b[0m\u001b[0m\n\u001b[0m",
      "\u001b[1;31mTypeError\u001b[0m: list.clear() takes no arguments (1 given)"
     ]
    }
   ],
   "source": [
    "y.clear(\"rekha\")"
   ]
  },
  {
   "cell_type": "code",
   "execution_count": 13,
   "id": "5b3f1e1d",
   "metadata": {},
   "outputs": [
    {
     "data": {
      "text/plain": [
       "['hema', 'rekha', 'jaya', 'sushma', 30, 25, '27', '28']"
      ]
     },
     "execution_count": 13,
     "metadata": {},
     "output_type": "execute_result"
    }
   ],
   "source": [
    "y.copy()"
   ]
  },
  {
   "cell_type": "code",
   "execution_count": 14,
   "id": "4183abeb",
   "metadata": {},
   "outputs": [],
   "source": [
    "copy=y.copy()"
   ]
  },
  {
   "cell_type": "code",
   "execution_count": 15,
   "id": "3be2dc7a",
   "metadata": {},
   "outputs": [
    {
     "name": "stdout",
     "output_type": "stream",
     "text": [
      "['hema', 'rekha', 'jaya', 'sushma', 30, 25, '27', '28']\n"
     ]
    }
   ],
   "source": [
    "print(copy)"
   ]
  },
  {
   "cell_type": "code",
   "execution_count": 16,
   "id": "c7963cde",
   "metadata": {},
   "outputs": [
    {
     "data": {
      "text/plain": [
       "1"
      ]
     },
     "execution_count": 16,
     "metadata": {},
     "output_type": "execute_result"
    }
   ],
   "source": [
    "y.count(\"hema\")"
   ]
  },
  {
   "cell_type": "code",
   "execution_count": 17,
   "id": "6a2ec2d9",
   "metadata": {},
   "outputs": [
    {
     "data": {
      "text/plain": [
       "1"
      ]
     },
     "execution_count": 17,
     "metadata": {},
     "output_type": "execute_result"
    }
   ],
   "source": [
    "y.count(30)"
   ]
  },
  {
   "cell_type": "code",
   "execution_count": 18,
   "id": "c00a85ce",
   "metadata": {},
   "outputs": [],
   "source": [
    "y.extend(\"rita\")"
   ]
  },
  {
   "cell_type": "code",
   "execution_count": 19,
   "id": "45ebd355",
   "metadata": {},
   "outputs": [
    {
     "ename": "TypeError",
     "evalue": "'int' object is not iterable",
     "output_type": "error",
     "traceback": [
      "\u001b[1;31m---------------------------------------------------------------------------\u001b[0m",
      "\u001b[1;31mTypeError\u001b[0m                                 Traceback (most recent call last)",
      "\u001b[1;32m~\\AppData\\Local\\Temp\\ipykernel_4344\\1408070319.py\u001b[0m in \u001b[0;36m<module>\u001b[1;34m\u001b[0m\n\u001b[1;32m----> 1\u001b[1;33m \u001b[0my\u001b[0m\u001b[1;33m.\u001b[0m\u001b[0mextend\u001b[0m\u001b[1;33m(\u001b[0m\u001b[1;36m21\u001b[0m\u001b[1;33m)\u001b[0m\u001b[1;33m\u001b[0m\u001b[1;33m\u001b[0m\u001b[0m\n\u001b[0m",
      "\u001b[1;31mTypeError\u001b[0m: 'int' object is not iterable"
     ]
    }
   ],
   "source": [
    "y.extend(21)"
   ]
  },
  {
   "cell_type": "code",
   "execution_count": 20,
   "id": "2e80c2dd",
   "metadata": {},
   "outputs": [
    {
     "name": "stdout",
     "output_type": "stream",
     "text": [
      "['hema', 'rekha', 'jaya', 'sushma', 30, 25, '27', '28', 'r', 'i', 't', 'a']\n"
     ]
    }
   ],
   "source": [
    "print(y)"
   ]
  },
  {
   "cell_type": "code",
   "execution_count": 21,
   "id": "cf01acba",
   "metadata": {},
   "outputs": [
    {
     "ename": "TypeError",
     "evalue": "list.extend() takes exactly one argument (2 given)",
     "output_type": "error",
     "traceback": [
      "\u001b[1;31m---------------------------------------------------------------------------\u001b[0m",
      "\u001b[1;31mTypeError\u001b[0m                                 Traceback (most recent call last)",
      "\u001b[1;32m~\\AppData\\Local\\Temp\\ipykernel_4344\\2699084434.py\u001b[0m in \u001b[0;36m<module>\u001b[1;34m\u001b[0m\n\u001b[1;32m----> 1\u001b[1;33m \u001b[0my\u001b[0m\u001b[1;33m.\u001b[0m\u001b[0mextend\u001b[0m\u001b[1;33m(\u001b[0m\u001b[1;34m\"ring\"\u001b[0m\u001b[1;33m,\u001b[0m \u001b[1;36m24\u001b[0m\u001b[1;33m)\u001b[0m\u001b[1;33m\u001b[0m\u001b[1;33m\u001b[0m\u001b[0m\n\u001b[0m",
      "\u001b[1;31mTypeError\u001b[0m: list.extend() takes exactly one argument (2 given)"
     ]
    }
   ],
   "source": [
    "y.extend(\"ring\", 24)"
   ]
  },
  {
   "cell_type": "code",
   "execution_count": 22,
   "id": "27184b8a",
   "metadata": {},
   "outputs": [],
   "source": [
    "y.extend([\"ring\", 24])"
   ]
  },
  {
   "cell_type": "code",
   "execution_count": 23,
   "id": "ac9b437f",
   "metadata": {},
   "outputs": [
    {
     "name": "stdout",
     "output_type": "stream",
     "text": [
      "['hema', 'rekha', 'jaya', 'sushma', 30, 25, '27', '28', 'r', 'i', 't', 'a', 'ring', 24]\n"
     ]
    }
   ],
   "source": [
    "print(y)"
   ]
  },
  {
   "cell_type": "code",
   "execution_count": 24,
   "id": "e2f96df8",
   "metadata": {},
   "outputs": [
    {
     "ename": "NameError",
     "evalue": "name 'r' is not defined",
     "output_type": "error",
     "traceback": [
      "\u001b[1;31m---------------------------------------------------------------------------\u001b[0m",
      "\u001b[1;31mNameError\u001b[0m                                 Traceback (most recent call last)",
      "\u001b[1;32m~\\AppData\\Local\\Temp\\ipykernel_4344\\3608552104.py\u001b[0m in \u001b[0;36m<module>\u001b[1;34m\u001b[0m\n\u001b[1;32m----> 1\u001b[1;33m \u001b[0my\u001b[0m\u001b[1;33m.\u001b[0m\u001b[0mindex\u001b[0m\u001b[1;33m(\u001b[0m\u001b[0mr\u001b[0m\u001b[1;33m)\u001b[0m\u001b[1;33m\u001b[0m\u001b[1;33m\u001b[0m\u001b[0m\n\u001b[0m",
      "\u001b[1;31mNameError\u001b[0m: name 'r' is not defined"
     ]
    }
   ],
   "source": [
    "y.index(r)"
   ]
  },
  {
   "cell_type": "code",
   "execution_count": 25,
   "id": "6c6c7548",
   "metadata": {},
   "outputs": [
    {
     "ename": "ValueError",
     "evalue": "8 is not in list",
     "output_type": "error",
     "traceback": [
      "\u001b[1;31m---------------------------------------------------------------------------\u001b[0m",
      "\u001b[1;31mValueError\u001b[0m                                Traceback (most recent call last)",
      "\u001b[1;32m~\\AppData\\Local\\Temp\\ipykernel_4344\\1128178325.py\u001b[0m in \u001b[0;36m<module>\u001b[1;34m\u001b[0m\n\u001b[1;32m----> 1\u001b[1;33m \u001b[0my\u001b[0m\u001b[1;33m.\u001b[0m\u001b[0mindex\u001b[0m\u001b[1;33m(\u001b[0m\u001b[1;36m8\u001b[0m\u001b[1;33m)\u001b[0m\u001b[1;33m\u001b[0m\u001b[1;33m\u001b[0m\u001b[0m\n\u001b[0m",
      "\u001b[1;31mValueError\u001b[0m: 8 is not in list"
     ]
    }
   ],
   "source": [
    "y.index(8)"
   ]
  },
  {
   "cell_type": "code",
   "execution_count": 26,
   "id": "f4c1dfe1",
   "metadata": {},
   "outputs": [
    {
     "data": {
      "text/plain": [
       "8"
      ]
     },
     "execution_count": 26,
     "metadata": {},
     "output_type": "execute_result"
    }
   ],
   "source": [
    "y.index(\"r\")"
   ]
  },
  {
   "cell_type": "code",
   "execution_count": 27,
   "id": "02a408bc",
   "metadata": {},
   "outputs": [],
   "source": [
    "y.insert(8, \"riya\")"
   ]
  },
  {
   "cell_type": "code",
   "execution_count": 28,
   "id": "75c2ba8e",
   "metadata": {},
   "outputs": [
    {
     "name": "stdout",
     "output_type": "stream",
     "text": [
      "['hema', 'rekha', 'jaya', 'sushma', 30, 25, '27', '28', 'riya', 'r', 'i', 't', 'a', 'ring', 24]\n"
     ]
    }
   ],
   "source": [
    "print(y)"
   ]
  },
  {
   "cell_type": "code",
   "execution_count": 29,
   "id": "f9f14517",
   "metadata": {},
   "outputs": [
    {
     "data": {
      "text/plain": [
       "'riya'"
      ]
     },
     "execution_count": 29,
     "metadata": {},
     "output_type": "execute_result"
    }
   ],
   "source": [
    "y.pop(8)"
   ]
  },
  {
   "cell_type": "code",
   "execution_count": 30,
   "id": "aa9ece83",
   "metadata": {},
   "outputs": [
    {
     "data": {
      "text/plain": [
       "'r'"
      ]
     },
     "execution_count": 30,
     "metadata": {},
     "output_type": "execute_result"
    }
   ],
   "source": [
    "y.pop(8)"
   ]
  },
  {
   "cell_type": "code",
   "execution_count": 31,
   "id": "9700c9e5",
   "metadata": {},
   "outputs": [
    {
     "data": {
      "text/plain": [
       "'i'"
      ]
     },
     "execution_count": 31,
     "metadata": {},
     "output_type": "execute_result"
    }
   ],
   "source": [
    "y.pop(8)"
   ]
  },
  {
   "cell_type": "code",
   "execution_count": 32,
   "id": "bf076102",
   "metadata": {},
   "outputs": [
    {
     "data": {
      "text/plain": [
       "'t'"
      ]
     },
     "execution_count": 32,
     "metadata": {},
     "output_type": "execute_result"
    }
   ],
   "source": [
    "y.pop(8)"
   ]
  },
  {
   "cell_type": "code",
   "execution_count": 33,
   "id": "6e8206ab",
   "metadata": {},
   "outputs": [
    {
     "data": {
      "text/plain": [
       "'a'"
      ]
     },
     "execution_count": 33,
     "metadata": {},
     "output_type": "execute_result"
    }
   ],
   "source": [
    "y.pop(8)"
   ]
  },
  {
   "cell_type": "code",
   "execution_count": 34,
   "id": "192ee3de",
   "metadata": {},
   "outputs": [
    {
     "name": "stdout",
     "output_type": "stream",
     "text": [
      "['hema', 'rekha', 'jaya', 'sushma', 30, 25, '27', '28', 'ring', 24]\n"
     ]
    }
   ],
   "source": [
    "print(y)"
   ]
  },
  {
   "cell_type": "code",
   "execution_count": 35,
   "id": "360bba76",
   "metadata": {},
   "outputs": [
    {
     "data": {
      "text/plain": [
       "'ring'"
      ]
     },
     "execution_count": 35,
     "metadata": {},
     "output_type": "execute_result"
    }
   ],
   "source": [
    "y.pop(8)"
   ]
  },
  {
   "cell_type": "code",
   "execution_count": 36,
   "id": "3c1fa92a",
   "metadata": {},
   "outputs": [
    {
     "data": {
      "text/plain": [
       "'27'"
      ]
     },
     "execution_count": 36,
     "metadata": {},
     "output_type": "execute_result"
    }
   ],
   "source": [
    "y.pop(6)"
   ]
  },
  {
   "cell_type": "code",
   "execution_count": 37,
   "id": "c31fd11f",
   "metadata": {},
   "outputs": [
    {
     "data": {
      "text/plain": [
       "'28'"
      ]
     },
     "execution_count": 37,
     "metadata": {},
     "output_type": "execute_result"
    }
   ],
   "source": [
    "y.pop(6)"
   ]
  },
  {
   "cell_type": "code",
   "execution_count": 38,
   "id": "d41cfbba",
   "metadata": {},
   "outputs": [],
   "source": [
    "y.extend([28])"
   ]
  },
  {
   "cell_type": "code",
   "execution_count": 39,
   "id": "19e63a35",
   "metadata": {},
   "outputs": [
    {
     "name": "stdout",
     "output_type": "stream",
     "text": [
      "['hema', 'rekha', 'jaya', 'sushma', 30, 25, 24, 28]\n"
     ]
    }
   ],
   "source": [
    "print(y)"
   ]
  },
  {
   "cell_type": "code",
   "execution_count": 40,
   "id": "5f352cdf",
   "metadata": {},
   "outputs": [],
   "source": [
    "y.extend([30,28])"
   ]
  },
  {
   "cell_type": "code",
   "execution_count": 41,
   "id": "ed29d170",
   "metadata": {},
   "outputs": [
    {
     "name": "stdout",
     "output_type": "stream",
     "text": [
      "['hema', 'rekha', 'jaya', 'sushma', 30, 25, 24, 28, 30, 28]\n"
     ]
    }
   ],
   "source": [
    "print(y)"
   ]
  },
  {
   "cell_type": "code",
   "execution_count": 42,
   "id": "f52c0de9",
   "metadata": {},
   "outputs": [],
   "source": [
    "y.remove(30)"
   ]
  },
  {
   "cell_type": "code",
   "execution_count": 43,
   "id": "f2b618ac",
   "metadata": {},
   "outputs": [],
   "source": [
    "y.remove(28)"
   ]
  },
  {
   "cell_type": "code",
   "execution_count": 44,
   "id": "57e34357",
   "metadata": {},
   "outputs": [
    {
     "name": "stdout",
     "output_type": "stream",
     "text": [
      "['hema', 'rekha', 'jaya', 'sushma', 25, 24, 30, 28]\n"
     ]
    }
   ],
   "source": [
    "print(y)"
   ]
  },
  {
   "cell_type": "code",
   "execution_count": 45,
   "id": "e7a83015",
   "metadata": {},
   "outputs": [],
   "source": [
    "y.reverse()"
   ]
  },
  {
   "cell_type": "code",
   "execution_count": 46,
   "id": "567ecc99",
   "metadata": {},
   "outputs": [
    {
     "name": "stdout",
     "output_type": "stream",
     "text": [
      "[28, 30, 24, 25, 'sushma', 'jaya', 'rekha', 'hema']\n"
     ]
    }
   ],
   "source": [
    "print(y)"
   ]
  },
  {
   "cell_type": "code",
   "execution_count": 47,
   "id": "6f9815cf",
   "metadata": {},
   "outputs": [
    {
     "ename": "TypeError",
     "evalue": "'<' not supported between instances of 'str' and 'int'",
     "output_type": "error",
     "traceback": [
      "\u001b[1;31m---------------------------------------------------------------------------\u001b[0m",
      "\u001b[1;31mTypeError\u001b[0m                                 Traceback (most recent call last)",
      "\u001b[1;32m~\\AppData\\Local\\Temp\\ipykernel_4344\\3916801187.py\u001b[0m in \u001b[0;36m<module>\u001b[1;34m\u001b[0m\n\u001b[1;32m----> 1\u001b[1;33m \u001b[0my\u001b[0m\u001b[1;33m.\u001b[0m\u001b[0msort\u001b[0m\u001b[1;33m(\u001b[0m\u001b[1;33m)\u001b[0m\u001b[1;33m\u001b[0m\u001b[1;33m\u001b[0m\u001b[0m\n\u001b[0m",
      "\u001b[1;31mTypeError\u001b[0m: '<' not supported between instances of 'str' and 'int'"
     ]
    }
   ],
   "source": [
    "y.sort()"
   ]
  },
  {
   "cell_type": "code",
   "execution_count": 48,
   "id": "f63a37bf",
   "metadata": {},
   "outputs": [],
   "source": [
    "y.remove(\"sushma\")"
   ]
  },
  {
   "cell_type": "code",
   "execution_count": 49,
   "id": "e4f2bf4d",
   "metadata": {},
   "outputs": [],
   "source": [
    "y.remove(\"jaya\")"
   ]
  },
  {
   "cell_type": "code",
   "execution_count": 50,
   "id": "76bbe9b2",
   "metadata": {},
   "outputs": [],
   "source": [
    "y.remove(\"rekha\")"
   ]
  },
  {
   "cell_type": "code",
   "execution_count": 51,
   "id": "c0ecae07",
   "metadata": {},
   "outputs": [],
   "source": [
    "y.remove(\"hema\")"
   ]
  },
  {
   "cell_type": "code",
   "execution_count": 52,
   "id": "9fe6487e",
   "metadata": {},
   "outputs": [
    {
     "name": "stdout",
     "output_type": "stream",
     "text": [
      "[24, 25, 28, 30]\n"
     ]
    }
   ],
   "source": [
    "print(y)"
   ]
  },
  {
   "cell_type": "code",
   "execution_count": 53,
   "id": "4a44ec45",
   "metadata": {},
   "outputs": [],
   "source": [
    "y.sort()"
   ]
  },
  {
   "cell_type": "code",
   "execution_count": 54,
   "id": "ff77fd6d",
   "metadata": {},
   "outputs": [
    {
     "name": "stdout",
     "output_type": "stream",
     "text": [
      "[24, 25, 28, 30]\n"
     ]
    }
   ],
   "source": [
    "print(y)"
   ]
  },
  {
   "cell_type": "code",
   "execution_count": 55,
   "id": "ce675c0e",
   "metadata": {},
   "outputs": [
    {
     "ename": "NameError",
     "evalue": "name 'true' is not defined",
     "output_type": "error",
     "traceback": [
      "\u001b[1;31m---------------------------------------------------------------------------\u001b[0m",
      "\u001b[1;31mNameError\u001b[0m                                 Traceback (most recent call last)",
      "\u001b[1;32m~\\AppData\\Local\\Temp\\ipykernel_4344\\3712194293.py\u001b[0m in \u001b[0;36m<module>\u001b[1;34m\u001b[0m\n\u001b[1;32m----> 1\u001b[1;33m \u001b[0my\u001b[0m\u001b[1;33m.\u001b[0m\u001b[0msort\u001b[0m\u001b[1;33m(\u001b[0m\u001b[0mreverse\u001b[0m\u001b[1;33m=\u001b[0m\u001b[0mtrue\u001b[0m\u001b[1;33m)\u001b[0m\u001b[1;33m\u001b[0m\u001b[1;33m\u001b[0m\u001b[0m\n\u001b[0m",
      "\u001b[1;31mNameError\u001b[0m: name 'true' is not defined"
     ]
    }
   ],
   "source": [
    "y.sort(reverse=true)"
   ]
  },
  {
   "cell_type": "code",
   "execution_count": 56,
   "id": "66d0c094",
   "metadata": {},
   "outputs": [
    {
     "ename": "NameError",
     "evalue": "name 'true' is not defined",
     "output_type": "error",
     "traceback": [
      "\u001b[1;31m---------------------------------------------------------------------------\u001b[0m",
      "\u001b[1;31mNameError\u001b[0m                                 Traceback (most recent call last)",
      "\u001b[1;32m~\\AppData\\Local\\Temp\\ipykernel_4344\\3710927925.py\u001b[0m in \u001b[0;36m<module>\u001b[1;34m\u001b[0m\n\u001b[1;32m----> 1\u001b[1;33m \u001b[0my\u001b[0m\u001b[1;33m.\u001b[0m\u001b[0msort\u001b[0m\u001b[1;33m(\u001b[0m\u001b[0mtrue\u001b[0m\u001b[1;33m)\u001b[0m\u001b[1;33m\u001b[0m\u001b[1;33m\u001b[0m\u001b[0m\n\u001b[0m",
      "\u001b[1;31mNameError\u001b[0m: name 'true' is not defined"
     ]
    }
   ],
   "source": [
    "y.sort(true)"
   ]
  },
  {
   "cell_type": "code",
   "execution_count": 57,
   "id": "3ff89a4b",
   "metadata": {},
   "outputs": [],
   "source": [
    "y.sort(reverse=False)"
   ]
  },
  {
   "cell_type": "code",
   "execution_count": 58,
   "id": "af6897d8",
   "metadata": {},
   "outputs": [
    {
     "name": "stdout",
     "output_type": "stream",
     "text": [
      "[24, 25, 28, 30]\n"
     ]
    }
   ],
   "source": [
    "print(y)"
   ]
  },
  {
   "cell_type": "code",
   "execution_count": 60,
   "id": "fbba2414",
   "metadata": {},
   "outputs": [],
   "source": [
    "y.sort(reverse=True)"
   ]
  },
  {
   "cell_type": "code",
   "execution_count": 61,
   "id": "7cb6dcc2",
   "metadata": {},
   "outputs": [
    {
     "name": "stdout",
     "output_type": "stream",
     "text": [
      "[30, 28, 25, 24]\n"
     ]
    }
   ],
   "source": [
    "print(y)"
   ]
  },
  {
   "cell_type": "code",
   "execution_count": 62,
   "id": "d21e6c0d",
   "metadata": {},
   "outputs": [],
   "source": [
    "d={}"
   ]
  },
  {
   "cell_type": "code",
   "execution_count": 63,
   "id": "f434bd18",
   "metadata": {},
   "outputs": [
    {
     "name": "stdout",
     "output_type": "stream",
     "text": [
      "{}\n"
     ]
    }
   ],
   "source": [
    "print(d)"
   ]
  },
  {
   "cell_type": "code",
   "execution_count": 68,
   "id": "074672d5",
   "metadata": {},
   "outputs": [],
   "source": [
    "d[\"p\"]=30"
   ]
  },
  {
   "cell_type": "code",
   "execution_count": 69,
   "id": "5cce11a2",
   "metadata": {},
   "outputs": [],
   "source": [
    "d[\"s\"]=29"
   ]
  },
  {
   "cell_type": "code",
   "execution_count": 70,
   "id": "535fd699",
   "metadata": {},
   "outputs": [],
   "source": [
    "d[\"d\"]=32"
   ]
  },
  {
   "cell_type": "code",
   "execution_count": 71,
   "id": "9040cd36",
   "metadata": {},
   "outputs": [],
   "source": [
    "d[\"a\"]=33"
   ]
  },
  {
   "cell_type": "code",
   "execution_count": 72,
   "id": "f4c97238",
   "metadata": {},
   "outputs": [
    {
     "name": "stdout",
     "output_type": "stream",
     "text": [
      "{'p': 30, 's': 29, 'd': 32, 'a': 33}\n"
     ]
    }
   ],
   "source": [
    "print(d)"
   ]
  },
  {
   "cell_type": "code",
   "execution_count": 74,
   "id": "6de9b993",
   "metadata": {},
   "outputs": [
    {
     "data": {
      "text/plain": [
       "{'g': 0}"
      ]
     },
     "execution_count": 74,
     "metadata": {},
     "output_type": "execute_result"
    }
   ],
   "source": [
    "d.fromkeys(\"g\", 0)"
   ]
  },
  {
   "cell_type": "code",
   "execution_count": 75,
   "id": "56728071",
   "metadata": {},
   "outputs": [
    {
     "name": "stdout",
     "output_type": "stream",
     "text": [
      "{'p': 30, 's': 29, 'd': 32, 'a': 33}\n"
     ]
    }
   ],
   "source": [
    "print(d)"
   ]
  },
  {
   "cell_type": "code",
   "execution_count": null,
   "id": "a66e6bc9",
   "metadata": {},
   "outputs": [],
   "source": [
    "d.fromkeys()"
   ]
  }
 ],
 "metadata": {
  "kernelspec": {
   "display_name": "Python 3 (ipykernel)",
   "language": "python",
   "name": "python3"
  },
  "language_info": {
   "codemirror_mode": {
    "name": "ipython",
    "version": 3
   },
   "file_extension": ".py",
   "mimetype": "text/x-python",
   "name": "python",
   "nbconvert_exporter": "python",
   "pygments_lexer": "ipython3",
   "version": "3.9.13"
  }
 },
 "nbformat": 4,
 "nbformat_minor": 5
}
